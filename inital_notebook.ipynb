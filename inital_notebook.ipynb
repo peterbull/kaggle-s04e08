{
 "cells": [
  {
   "cell_type": "markdown",
   "metadata": {},
   "source": [
    "https://www.kaggle.com/competitions/playground-series-s4e8"
   ]
  },
  {
   "cell_type": "code",
   "execution_count": 1,
   "metadata": {},
   "outputs": [],
   "source": [
    "from fastkaggle import *\n",
    "from pathlib import Path\n",
    "import zipfile\n",
    "import pandas as pd\n",
    "import polars as pl"
   ]
  },
  {
   "cell_type": "code",
   "execution_count": 2,
   "metadata": {},
   "outputs": [],
   "source": [
    "comp_name = \"playground-series-s4e8\""
   ]
  },
  {
   "cell_type": "code",
   "execution_count": 3,
   "metadata": {},
   "outputs": [
    {
     "name": "stdout",
     "output_type": "stream",
     "text": [
      "Warning: Your Kaggle API key is readable by other users on this system! To fix this, you can run 'chmod 600 /Users/peterbull/.kaggle/kaggle.json'\n"
     ]
    },
    {
     "data": {
      "text/plain": [
       "Path('playground-series-s4e8')"
      ]
     },
     "execution_count": 3,
     "metadata": {},
     "output_type": "execute_result"
    }
   ],
   "source": [
    "setup_comp(comp_name)"
   ]
  },
  {
   "cell_type": "code",
   "execution_count": 4,
   "metadata": {},
   "outputs": [],
   "source": [
    "datapath = Path(comp_name)"
   ]
  },
  {
   "cell_type": "code",
   "execution_count": 5,
   "metadata": {},
   "outputs": [],
   "source": [
    "df_train = pl.read_csv(f'{datapath}/train.csv')"
   ]
  },
  {
   "cell_type": "code",
   "execution_count": 7,
   "metadata": {},
   "outputs": [
    {
     "data": {
      "text/html": [
       "<div><style>\n",
       ".dataframe > thead > tr,\n",
       ".dataframe > tbody > tr {\n",
       "  text-align: right;\n",
       "  white-space: pre-wrap;\n",
       "}\n",
       "</style>\n",
       "<small>shape: (5, 22)</small><table border=\"1\" class=\"dataframe\"><thead><tr><th>id</th><th>class</th><th>cap-diameter</th><th>cap-shape</th><th>cap-surface</th><th>cap-color</th><th>does-bruise-or-bleed</th><th>gill-attachment</th><th>gill-spacing</th><th>gill-color</th><th>stem-height</th><th>stem-width</th><th>stem-root</th><th>stem-surface</th><th>stem-color</th><th>veil-type</th><th>veil-color</th><th>has-ring</th><th>ring-type</th><th>spore-print-color</th><th>habitat</th><th>season</th></tr><tr><td>i64</td><td>str</td><td>f64</td><td>str</td><td>str</td><td>str</td><td>str</td><td>str</td><td>str</td><td>str</td><td>f64</td><td>f64</td><td>str</td><td>str</td><td>str</td><td>str</td><td>str</td><td>str</td><td>str</td><td>str</td><td>str</td><td>str</td></tr></thead><tbody><tr><td>0</td><td>&quot;e&quot;</td><td>8.8</td><td>&quot;f&quot;</td><td>&quot;s&quot;</td><td>&quot;u&quot;</td><td>&quot;f&quot;</td><td>&quot;a&quot;</td><td>&quot;c&quot;</td><td>&quot;w&quot;</td><td>4.51</td><td>15.39</td><td>null</td><td>null</td><td>&quot;w&quot;</td><td>null</td><td>null</td><td>&quot;f&quot;</td><td>&quot;f&quot;</td><td>null</td><td>&quot;d&quot;</td><td>&quot;a&quot;</td></tr><tr><td>1</td><td>&quot;p&quot;</td><td>4.51</td><td>&quot;x&quot;</td><td>&quot;h&quot;</td><td>&quot;o&quot;</td><td>&quot;f&quot;</td><td>&quot;a&quot;</td><td>&quot;c&quot;</td><td>&quot;n&quot;</td><td>4.79</td><td>6.48</td><td>null</td><td>&quot;y&quot;</td><td>&quot;o&quot;</td><td>null</td><td>null</td><td>&quot;t&quot;</td><td>&quot;z&quot;</td><td>null</td><td>&quot;d&quot;</td><td>&quot;w&quot;</td></tr><tr><td>2</td><td>&quot;e&quot;</td><td>6.94</td><td>&quot;f&quot;</td><td>&quot;s&quot;</td><td>&quot;b&quot;</td><td>&quot;f&quot;</td><td>&quot;x&quot;</td><td>&quot;c&quot;</td><td>&quot;w&quot;</td><td>6.85</td><td>9.93</td><td>null</td><td>&quot;s&quot;</td><td>&quot;n&quot;</td><td>null</td><td>null</td><td>&quot;f&quot;</td><td>&quot;f&quot;</td><td>null</td><td>&quot;l&quot;</td><td>&quot;w&quot;</td></tr><tr><td>3</td><td>&quot;e&quot;</td><td>3.88</td><td>&quot;f&quot;</td><td>&quot;y&quot;</td><td>&quot;g&quot;</td><td>&quot;f&quot;</td><td>&quot;s&quot;</td><td>null</td><td>&quot;g&quot;</td><td>4.16</td><td>6.53</td><td>null</td><td>null</td><td>&quot;w&quot;</td><td>null</td><td>null</td><td>&quot;f&quot;</td><td>&quot;f&quot;</td><td>null</td><td>&quot;d&quot;</td><td>&quot;u&quot;</td></tr><tr><td>4</td><td>&quot;e&quot;</td><td>5.85</td><td>&quot;x&quot;</td><td>&quot;l&quot;</td><td>&quot;w&quot;</td><td>&quot;f&quot;</td><td>&quot;d&quot;</td><td>null</td><td>&quot;w&quot;</td><td>3.37</td><td>8.36</td><td>null</td><td>null</td><td>&quot;w&quot;</td><td>null</td><td>null</td><td>&quot;f&quot;</td><td>&quot;f&quot;</td><td>null</td><td>&quot;g&quot;</td><td>&quot;a&quot;</td></tr></tbody></table></div>"
      ],
      "text/plain": [
       "shape: (5, 22)\n",
       "┌─────┬───────┬──────────────┬───────────┬───┬───────────┬───────────────────┬─────────┬────────┐\n",
       "│ id  ┆ class ┆ cap-diameter ┆ cap-shape ┆ … ┆ ring-type ┆ spore-print-color ┆ habitat ┆ season │\n",
       "│ --- ┆ ---   ┆ ---          ┆ ---       ┆   ┆ ---       ┆ ---               ┆ ---     ┆ ---    │\n",
       "│ i64 ┆ str   ┆ f64          ┆ str       ┆   ┆ str       ┆ str               ┆ str     ┆ str    │\n",
       "╞═════╪═══════╪══════════════╪═══════════╪═══╪═══════════╪═══════════════════╪═════════╪════════╡\n",
       "│ 0   ┆ e     ┆ 8.8          ┆ f         ┆ … ┆ f         ┆ null              ┆ d       ┆ a      │\n",
       "│ 1   ┆ p     ┆ 4.51         ┆ x         ┆ … ┆ z         ┆ null              ┆ d       ┆ w      │\n",
       "│ 2   ┆ e     ┆ 6.94         ┆ f         ┆ … ┆ f         ┆ null              ┆ l       ┆ w      │\n",
       "│ 3   ┆ e     ┆ 3.88         ┆ f         ┆ … ┆ f         ┆ null              ┆ d       ┆ u      │\n",
       "│ 4   ┆ e     ┆ 5.85         ┆ x         ┆ … ┆ f         ┆ null              ┆ g       ┆ a      │\n",
       "└─────┴───────┴──────────────┴───────────┴───┴───────────┴───────────────────┴─────────┴────────┘"
      ]
     },
     "execution_count": 7,
     "metadata": {},
     "output_type": "execute_result"
    }
   ],
   "source": [
    "df_train.head()"
   ]
  },
  {
   "cell_type": "code",
   "execution_count": null,
   "metadata": {},
   "outputs": [],
   "source": []
  }
 ],
 "metadata": {
  "kernelspec": {
   "display_name": ".venv",
   "language": "python",
   "name": "python3"
  },
  "language_info": {
   "codemirror_mode": {
    "name": "ipython",
    "version": 3
   },
   "file_extension": ".py",
   "mimetype": "text/x-python",
   "name": "python",
   "nbconvert_exporter": "python",
   "pygments_lexer": "ipython3",
   "version": "3.12.4"
  }
 },
 "nbformat": 4,
 "nbformat_minor": 2
}
