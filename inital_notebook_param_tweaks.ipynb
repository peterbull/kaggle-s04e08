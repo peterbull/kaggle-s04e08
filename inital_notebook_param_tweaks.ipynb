{
 "cells": [
  {
   "cell_type": "markdown",
   "metadata": {},
   "source": [
    "https://www.kaggle.com/competitions/playground-series-s4e8"
   ]
  },
  {
   "cell_type": "code",
   "execution_count": 1,
   "metadata": {},
   "outputs": [],
   "source": [
    "from fastkaggle import *\n",
    "from pathlib import Path\n",
    "import zipfile\n",
    "import pandas as pd\n",
    "import polars as pl\n",
    "from sklearn.model_selection import train_test_split\n",
    "from sklearn.ensemble import RandomForestClassifier\n",
    "from sklearn.metrics import accuracy_score\n",
    "from sklearn.preprocessing import LabelEncoder, OneHotEncoder\n",
    "from sklearn.pipeline import Pipeline\n",
    "from sklearn.compose import ColumnTransformer\n",
    "from sklearn.impute import SimpleImputer"
   ]
  },
  {
   "cell_type": "code",
   "execution_count": 2,
   "metadata": {},
   "outputs": [],
   "source": [
    "comp_name = \"playground-series-s4e8\""
   ]
  },
  {
   "cell_type": "code",
   "execution_count": 3,
   "metadata": {},
   "outputs": [
    {
     "name": "stdout",
     "output_type": "stream",
     "text": [
      "Warning: Your Kaggle API key is readable by other users on this system! To fix this, you can run 'chmod 600 /Users/peterbull/.kaggle/kaggle.json'\n"
     ]
    },
    {
     "data": {
      "text/plain": [
       "Path('playground-series-s4e8')"
      ]
     },
     "execution_count": 3,
     "metadata": {},
     "output_type": "execute_result"
    }
   ],
   "source": [
    "setup_comp(comp_name)"
   ]
  },
  {
   "cell_type": "code",
   "execution_count": 4,
   "metadata": {},
   "outputs": [],
   "source": [
    "datapath = Path(comp_name)"
   ]
  },
  {
   "cell_type": "code",
   "execution_count": 5,
   "metadata": {},
   "outputs": [],
   "source": [
    "df_train = pl.read_csv(f'{datapath}/train.csv')"
   ]
  },
  {
   "cell_type": "code",
   "execution_count": 6,
   "metadata": {},
   "outputs": [
    {
     "data": {
      "text/html": [
       "<div><style>\n",
       ".dataframe > thead > tr,\n",
       ".dataframe > tbody > tr {\n",
       "  text-align: right;\n",
       "  white-space: pre-wrap;\n",
       "}\n",
       "</style>\n",
       "<small>shape: (5, 22)</small><table border=\"1\" class=\"dataframe\"><thead><tr><th>id</th><th>class</th><th>cap-diameter</th><th>cap-shape</th><th>cap-surface</th><th>cap-color</th><th>does-bruise-or-bleed</th><th>gill-attachment</th><th>gill-spacing</th><th>gill-color</th><th>stem-height</th><th>stem-width</th><th>stem-root</th><th>stem-surface</th><th>stem-color</th><th>veil-type</th><th>veil-color</th><th>has-ring</th><th>ring-type</th><th>spore-print-color</th><th>habitat</th><th>season</th></tr><tr><td>i64</td><td>str</td><td>f64</td><td>str</td><td>str</td><td>str</td><td>str</td><td>str</td><td>str</td><td>str</td><td>f64</td><td>f64</td><td>str</td><td>str</td><td>str</td><td>str</td><td>str</td><td>str</td><td>str</td><td>str</td><td>str</td><td>str</td></tr></thead><tbody><tr><td>0</td><td>&quot;e&quot;</td><td>8.8</td><td>&quot;f&quot;</td><td>&quot;s&quot;</td><td>&quot;u&quot;</td><td>&quot;f&quot;</td><td>&quot;a&quot;</td><td>&quot;c&quot;</td><td>&quot;w&quot;</td><td>4.51</td><td>15.39</td><td>null</td><td>null</td><td>&quot;w&quot;</td><td>null</td><td>null</td><td>&quot;f&quot;</td><td>&quot;f&quot;</td><td>null</td><td>&quot;d&quot;</td><td>&quot;a&quot;</td></tr><tr><td>1</td><td>&quot;p&quot;</td><td>4.51</td><td>&quot;x&quot;</td><td>&quot;h&quot;</td><td>&quot;o&quot;</td><td>&quot;f&quot;</td><td>&quot;a&quot;</td><td>&quot;c&quot;</td><td>&quot;n&quot;</td><td>4.79</td><td>6.48</td><td>null</td><td>&quot;y&quot;</td><td>&quot;o&quot;</td><td>null</td><td>null</td><td>&quot;t&quot;</td><td>&quot;z&quot;</td><td>null</td><td>&quot;d&quot;</td><td>&quot;w&quot;</td></tr><tr><td>2</td><td>&quot;e&quot;</td><td>6.94</td><td>&quot;f&quot;</td><td>&quot;s&quot;</td><td>&quot;b&quot;</td><td>&quot;f&quot;</td><td>&quot;x&quot;</td><td>&quot;c&quot;</td><td>&quot;w&quot;</td><td>6.85</td><td>9.93</td><td>null</td><td>&quot;s&quot;</td><td>&quot;n&quot;</td><td>null</td><td>null</td><td>&quot;f&quot;</td><td>&quot;f&quot;</td><td>null</td><td>&quot;l&quot;</td><td>&quot;w&quot;</td></tr><tr><td>3</td><td>&quot;e&quot;</td><td>3.88</td><td>&quot;f&quot;</td><td>&quot;y&quot;</td><td>&quot;g&quot;</td><td>&quot;f&quot;</td><td>&quot;s&quot;</td><td>null</td><td>&quot;g&quot;</td><td>4.16</td><td>6.53</td><td>null</td><td>null</td><td>&quot;w&quot;</td><td>null</td><td>null</td><td>&quot;f&quot;</td><td>&quot;f&quot;</td><td>null</td><td>&quot;d&quot;</td><td>&quot;u&quot;</td></tr><tr><td>4</td><td>&quot;e&quot;</td><td>5.85</td><td>&quot;x&quot;</td><td>&quot;l&quot;</td><td>&quot;w&quot;</td><td>&quot;f&quot;</td><td>&quot;d&quot;</td><td>null</td><td>&quot;w&quot;</td><td>3.37</td><td>8.36</td><td>null</td><td>null</td><td>&quot;w&quot;</td><td>null</td><td>null</td><td>&quot;f&quot;</td><td>&quot;f&quot;</td><td>null</td><td>&quot;g&quot;</td><td>&quot;a&quot;</td></tr></tbody></table></div>"
      ],
      "text/plain": [
       "shape: (5, 22)\n",
       "┌─────┬───────┬──────────────┬───────────┬───┬───────────┬───────────────────┬─────────┬────────┐\n",
       "│ id  ┆ class ┆ cap-diameter ┆ cap-shape ┆ … ┆ ring-type ┆ spore-print-color ┆ habitat ┆ season │\n",
       "│ --- ┆ ---   ┆ ---          ┆ ---       ┆   ┆ ---       ┆ ---               ┆ ---     ┆ ---    │\n",
       "│ i64 ┆ str   ┆ f64          ┆ str       ┆   ┆ str       ┆ str               ┆ str     ┆ str    │\n",
       "╞═════╪═══════╪══════════════╪═══════════╪═══╪═══════════╪═══════════════════╪═════════╪════════╡\n",
       "│ 0   ┆ e     ┆ 8.8          ┆ f         ┆ … ┆ f         ┆ null              ┆ d       ┆ a      │\n",
       "│ 1   ┆ p     ┆ 4.51         ┆ x         ┆ … ┆ z         ┆ null              ┆ d       ┆ w      │\n",
       "│ 2   ┆ e     ┆ 6.94         ┆ f         ┆ … ┆ f         ┆ null              ┆ l       ┆ w      │\n",
       "│ 3   ┆ e     ┆ 3.88         ┆ f         ┆ … ┆ f         ┆ null              ┆ d       ┆ u      │\n",
       "│ 4   ┆ e     ┆ 5.85         ┆ x         ┆ … ┆ f         ┆ null              ┆ g       ┆ a      │\n",
       "└─────┴───────┴──────────────┴───────────┴───┴───────────┴───────────────────┴─────────┴────────┘"
      ]
     },
     "execution_count": 6,
     "metadata": {},
     "output_type": "execute_result"
    }
   ],
   "source": [
    "df_train.head()"
   ]
  },
  {
   "cell_type": "code",
   "execution_count": 7,
   "metadata": {},
   "outputs": [
    {
     "data": {
      "text/html": [
       "<div><style>\n",
       ".dataframe > thead > tr,\n",
       ".dataframe > tbody > tr {\n",
       "  text-align: right;\n",
       "  white-space: pre-wrap;\n",
       "}\n",
       "</style>\n",
       "<small>shape: (9, 23)</small><table border=\"1\" class=\"dataframe\"><thead><tr><th>statistic</th><th>id</th><th>class</th><th>cap-diameter</th><th>cap-shape</th><th>cap-surface</th><th>cap-color</th><th>does-bruise-or-bleed</th><th>gill-attachment</th><th>gill-spacing</th><th>gill-color</th><th>stem-height</th><th>stem-width</th><th>stem-root</th><th>stem-surface</th><th>stem-color</th><th>veil-type</th><th>veil-color</th><th>has-ring</th><th>ring-type</th><th>spore-print-color</th><th>habitat</th><th>season</th></tr><tr><td>str</td><td>f64</td><td>str</td><td>f64</td><td>str</td><td>str</td><td>str</td><td>str</td><td>str</td><td>str</td><td>str</td><td>f64</td><td>f64</td><td>str</td><td>str</td><td>str</td><td>str</td><td>str</td><td>str</td><td>str</td><td>str</td><td>str</td><td>str</td></tr></thead><tbody><tr><td>&quot;count&quot;</td><td>3.116945e6</td><td>&quot;3116945&quot;</td><td>3.116941e6</td><td>&quot;3116905&quot;</td><td>&quot;2445922&quot;</td><td>&quot;3116933&quot;</td><td>&quot;3116937&quot;</td><td>&quot;2593009&quot;</td><td>&quot;1858510&quot;</td><td>&quot;3116888&quot;</td><td>3.116945e6</td><td>3.116945e6</td><td>&quot;359922&quot;</td><td>&quot;1136084&quot;</td><td>&quot;3116907&quot;</td><td>&quot;159452&quot;</td><td>&quot;375998&quot;</td><td>&quot;3116921&quot;</td><td>&quot;2988065&quot;</td><td>&quot;267263&quot;</td><td>&quot;3116900&quot;</td><td>&quot;3116945&quot;</td></tr><tr><td>&quot;null_count&quot;</td><td>0.0</td><td>&quot;0&quot;</td><td>4.0</td><td>&quot;40&quot;</td><td>&quot;671023&quot;</td><td>&quot;12&quot;</td><td>&quot;8&quot;</td><td>&quot;523936&quot;</td><td>&quot;1258435&quot;</td><td>&quot;57&quot;</td><td>0.0</td><td>0.0</td><td>&quot;2757023&quot;</td><td>&quot;1980861&quot;</td><td>&quot;38&quot;</td><td>&quot;2957493&quot;</td><td>&quot;2740947&quot;</td><td>&quot;24&quot;</td><td>&quot;128880&quot;</td><td>&quot;2849682&quot;</td><td>&quot;45&quot;</td><td>&quot;0&quot;</td></tr><tr><td>&quot;mean&quot;</td><td>1.558472e6</td><td>null</td><td>6.309848</td><td>null</td><td>null</td><td>null</td><td>null</td><td>null</td><td>null</td><td>null</td><td>6.348333</td><td>11.153785</td><td>null</td><td>null</td><td>null</td><td>null</td><td>null</td><td>null</td><td>null</td><td>null</td><td>null</td><td>null</td></tr><tr><td>&quot;std&quot;</td><td>899784.661737</td><td>null</td><td>4.657931</td><td>null</td><td>null</td><td>null</td><td>null</td><td>null</td><td>null</td><td>null</td><td>2.699755</td><td>8.095477</td><td>null</td><td>null</td><td>null</td><td>null</td><td>null</td><td>null</td><td>null</td><td>null</td><td>null</td><td>null</td></tr><tr><td>&quot;min&quot;</td><td>0.0</td><td>&quot;e&quot;</td><td>0.03</td><td>&quot;0&quot;</td><td>&quot;0&quot;</td><td>&quot;1&quot;</td><td>&quot;2&quot;</td><td>&quot;0&quot;</td><td>&quot;0&quot;</td><td>&quot;0&quot;</td><td>0.0</td><td>0.0</td><td>&quot;1&quot;</td><td>&quot;0&quot;</td><td>&quot;1&quot;</td><td>&quot;21&quot;</td><td>&quot;2&quot;</td><td>&quot;10&quot;</td><td>&quot;1&quot;</td><td>&quot;10 None&quot;</td><td>&quot;1&quot;</td><td>&quot;a&quot;</td></tr><tr><td>&quot;25%&quot;</td><td>779236.0</td><td>null</td><td>3.32</td><td>null</td><td>null</td><td>null</td><td>null</td><td>null</td><td>null</td><td>null</td><td>4.67</td><td>4.97</td><td>null</td><td>null</td><td>null</td><td>null</td><td>null</td><td>null</td><td>null</td><td>null</td><td>null</td><td>null</td></tr><tr><td>&quot;50%&quot;</td><td>1.558472e6</td><td>null</td><td>5.75</td><td>null</td><td>null</td><td>null</td><td>null</td><td>null</td><td>null</td><td>null</td><td>5.88</td><td>9.65</td><td>null</td><td>null</td><td>null</td><td>null</td><td>null</td><td>null</td><td>null</td><td>null</td><td>null</td><td>null</td></tr><tr><td>&quot;75%&quot;</td><td>2.337708e6</td><td>null</td><td>8.24</td><td>null</td><td>null</td><td>null</td><td>null</td><td>null</td><td>null</td><td>null</td><td>7.41</td><td>15.63</td><td>null</td><td>null</td><td>null</td><td>null</td><td>null</td><td>null</td><td>null</td><td>null</td><td>null</td><td>null</td></tr><tr><td>&quot;max&quot;</td><td>3.116944e6</td><td>&quot;p&quot;</td><td>80.67</td><td>&quot;z&quot;</td><td>&quot;z&quot;</td><td>&quot;z&quot;</td><td>&quot;z&quot;</td><td>&quot;z&quot;</td><td>&quot;y&quot;</td><td>&quot;z&quot;</td><td>88.72</td><td>102.9</td><td>&quot;z&quot;</td><td>&quot;z&quot;</td><td>&quot;z&quot;</td><td>&quot;y&quot;</td><td>&quot;z&quot;</td><td>&quot;z&quot;</td><td>&quot;z&quot;</td><td>&quot;y&quot;</td><td>&quot;z&quot;</td><td>&quot;w&quot;</td></tr></tbody></table></div>"
      ],
      "text/plain": [
       "shape: (9, 23)\n",
       "┌────────────┬─────────────┬─────────┬────────────┬───┬───────────┬────────────┬─────────┬─────────┐\n",
       "│ statistic  ┆ id          ┆ class   ┆ cap-diamet ┆ … ┆ ring-type ┆ spore-prin ┆ habitat ┆ season  │\n",
       "│ ---        ┆ ---         ┆ ---     ┆ er         ┆   ┆ ---       ┆ t-color    ┆ ---     ┆ ---     │\n",
       "│ str        ┆ f64         ┆ str     ┆ ---        ┆   ┆ str       ┆ ---        ┆ str     ┆ str     │\n",
       "│            ┆             ┆         ┆ f64        ┆   ┆           ┆ str        ┆         ┆         │\n",
       "╞════════════╪═════════════╪═════════╪════════════╪═══╪═══════════╪════════════╪═════════╪═════════╡\n",
       "│ count      ┆ 3.116945e6  ┆ 3116945 ┆ 3.116941e6 ┆ … ┆ 2988065   ┆ 267263     ┆ 3116900 ┆ 3116945 │\n",
       "│ null_count ┆ 0.0         ┆ 0       ┆ 4.0        ┆ … ┆ 128880    ┆ 2849682    ┆ 45      ┆ 0       │\n",
       "│ mean       ┆ 1.558472e6  ┆ null    ┆ 6.309848   ┆ … ┆ null      ┆ null       ┆ null    ┆ null    │\n",
       "│ std        ┆ 899784.6617 ┆ null    ┆ 4.657931   ┆ … ┆ null      ┆ null       ┆ null    ┆ null    │\n",
       "│            ┆ 37          ┆         ┆            ┆   ┆           ┆            ┆         ┆         │\n",
       "│ min        ┆ 0.0         ┆ e       ┆ 0.03       ┆ … ┆ 1         ┆ 10 None    ┆ 1       ┆ a       │\n",
       "│ 25%        ┆ 779236.0    ┆ null    ┆ 3.32       ┆ … ┆ null      ┆ null       ┆ null    ┆ null    │\n",
       "│ 50%        ┆ 1.558472e6  ┆ null    ┆ 5.75       ┆ … ┆ null      ┆ null       ┆ null    ┆ null    │\n",
       "│ 75%        ┆ 2.337708e6  ┆ null    ┆ 8.24       ┆ … ┆ null      ┆ null       ┆ null    ┆ null    │\n",
       "│ max        ┆ 3.116944e6  ┆ p       ┆ 80.67      ┆ … ┆ z         ┆ y          ┆ z       ┆ w       │\n",
       "└────────────┴─────────────┴─────────┴────────────┴───┴───────────┴────────────┴─────────┴─────────┘"
      ]
     },
     "execution_count": 7,
     "metadata": {},
     "output_type": "execute_result"
    }
   ],
   "source": [
    "df_train.describe()"
   ]
  },
  {
   "cell_type": "code",
   "execution_count": 8,
   "metadata": {},
   "outputs": [
    {
     "data": {
      "text/plain": [
       "[Int64,\n",
       " String,\n",
       " Float64,\n",
       " String,\n",
       " String,\n",
       " String,\n",
       " String,\n",
       " String,\n",
       " String,\n",
       " String,\n",
       " Float64,\n",
       " Float64,\n",
       " String,\n",
       " String,\n",
       " String,\n",
       " String,\n",
       " String,\n",
       " String,\n",
       " String,\n",
       " String,\n",
       " String,\n",
       " String]"
      ]
     },
     "execution_count": 8,
     "metadata": {},
     "output_type": "execute_result"
    }
   ],
   "source": [
    "df_train.dtypes"
   ]
  },
  {
   "cell_type": "code",
   "execution_count": 9,
   "metadata": {},
   "outputs": [
    {
     "data": {
      "text/html": [
       "<div><style>\n",
       ".dataframe > thead > tr,\n",
       ".dataframe > tbody > tr {\n",
       "  text-align: right;\n",
       "  white-space: pre-wrap;\n",
       "}\n",
       "</style>\n",
       "<small>shape: (1, 22)</small><table border=\"1\" class=\"dataframe\"><thead><tr><th>id</th><th>class</th><th>cap-diameter</th><th>cap-shape</th><th>cap-surface</th><th>cap-color</th><th>does-bruise-or-bleed</th><th>gill-attachment</th><th>gill-spacing</th><th>gill-color</th><th>stem-height</th><th>stem-width</th><th>stem-root</th><th>stem-surface</th><th>stem-color</th><th>veil-type</th><th>veil-color</th><th>has-ring</th><th>ring-type</th><th>spore-print-color</th><th>habitat</th><th>season</th></tr><tr><td>u32</td><td>u32</td><td>u32</td><td>u32</td><td>u32</td><td>u32</td><td>u32</td><td>u32</td><td>u32</td><td>u32</td><td>u32</td><td>u32</td><td>u32</td><td>u32</td><td>u32</td><td>u32</td><td>u32</td><td>u32</td><td>u32</td><td>u32</td><td>u32</td><td>u32</td></tr></thead><tbody><tr><td>3083554</td><td>2</td><td>3884</td><td>75</td><td>84</td><td>79</td><td>27</td><td>78</td><td>49</td><td>64</td><td>2736</td><td>5828</td><td>39</td><td>61</td><td>60</td><td>23</td><td>25</td><td>24</td><td>41</td><td>33</td><td>53</td><td>4</td></tr></tbody></table></div>"
      ],
      "text/plain": [
       "shape: (1, 22)\n",
       "┌─────────┬───────┬──────────────┬───────────┬───┬───────────┬──────────────────┬─────────┬────────┐\n",
       "│ id      ┆ class ┆ cap-diameter ┆ cap-shape ┆ … ┆ ring-type ┆ spore-print-colo ┆ habitat ┆ season │\n",
       "│ ---     ┆ ---   ┆ ---          ┆ ---       ┆   ┆ ---       ┆ r                ┆ ---     ┆ ---    │\n",
       "│ u32     ┆ u32   ┆ u32          ┆ u32       ┆   ┆ u32       ┆ ---              ┆ u32     ┆ u32    │\n",
       "│         ┆       ┆              ┆           ┆   ┆           ┆ u32              ┆         ┆        │\n",
       "╞═════════╪═══════╪══════════════╪═══════════╪═══╪═══════════╪══════════════════╪═════════╪════════╡\n",
       "│ 3083554 ┆ 2     ┆ 3884         ┆ 75        ┆ … ┆ 41        ┆ 33               ┆ 53      ┆ 4      │\n",
       "└─────────┴───────┴──────────────┴───────────┴───┴───────────┴──────────────────┴─────────┴────────┘"
      ]
     },
     "execution_count": 9,
     "metadata": {},
     "output_type": "execute_result"
    }
   ],
   "source": [
    "df_train.select(pl.all().approx_n_unique())"
   ]
  },
  {
   "cell_type": "code",
   "execution_count": 10,
   "metadata": {},
   "outputs": [
    {
     "data": {
      "text/plain": [
       "['id',\n",
       " 'class',\n",
       " 'cap-diameter',\n",
       " 'cap-shape',\n",
       " 'cap-surface',\n",
       " 'cap-color',\n",
       " 'does-bruise-or-bleed',\n",
       " 'gill-attachment',\n",
       " 'gill-spacing',\n",
       " 'gill-color',\n",
       " 'stem-height',\n",
       " 'stem-width',\n",
       " 'stem-root',\n",
       " 'stem-surface',\n",
       " 'stem-color',\n",
       " 'veil-type',\n",
       " 'veil-color',\n",
       " 'has-ring',\n",
       " 'ring-type',\n",
       " 'spore-print-color',\n",
       " 'habitat',\n",
       " 'season']"
      ]
     },
     "execution_count": 10,
     "metadata": {},
     "output_type": "execute_result"
    }
   ],
   "source": [
    "df_train.columns"
   ]
  },
  {
   "cell_type": "markdown",
   "metadata": {},
   "source": [
    "Take a look at the value counts for the target "
   ]
  },
  {
   "cell_type": "code",
   "execution_count": 11,
   "metadata": {},
   "outputs": [
    {
     "data": {
      "text/html": [
       "<div><style>\n",
       ".dataframe > thead > tr,\n",
       ".dataframe > tbody > tr {\n",
       "  text-align: right;\n",
       "  white-space: pre-wrap;\n",
       "}\n",
       "</style>\n",
       "<small>shape: (2, 2)</small><table border=\"1\" class=\"dataframe\"><thead><tr><th>class</th><th>count</th></tr><tr><td>str</td><td>u32</td></tr></thead><tbody><tr><td>&quot;p&quot;</td><td>1705396</td></tr><tr><td>&quot;e&quot;</td><td>1411549</td></tr></tbody></table></div>"
      ],
      "text/plain": [
       "shape: (2, 2)\n",
       "┌───────┬─────────┐\n",
       "│ class ┆ count   │\n",
       "│ ---   ┆ ---     │\n",
       "│ str   ┆ u32     │\n",
       "╞═══════╪═════════╡\n",
       "│ p     ┆ 1705396 │\n",
       "│ e     ┆ 1411549 │\n",
       "└───────┴─────────┘"
      ]
     },
     "execution_count": 11,
     "metadata": {},
     "output_type": "execute_result"
    }
   ],
   "source": [
    "df_train['class'].value_counts()"
   ]
  },
  {
   "cell_type": "markdown",
   "metadata": {},
   "source": [
    "Split the training set into data and target"
   ]
  },
  {
   "cell_type": "code",
   "execution_count": 12,
   "metadata": {},
   "outputs": [],
   "source": [
    "x = df_train.drop('class')\n",
    "y = df_train['class']"
   ]
  },
  {
   "cell_type": "markdown",
   "metadata": {},
   "source": [
    "For a less ordinal data we could use `One Hot Encoding`, but since the prediction is binary we would can use a basic mapping or sklearn's `LabelEncoder`"
   ]
  },
  {
   "cell_type": "code",
   "execution_count": 13,
   "metadata": {},
   "outputs": [],
   "source": [
    "label_encoder = LabelEncoder()\n",
    "y_encoded = label_encoder.fit_transform(y)"
   ]
  },
  {
   "cell_type": "code",
   "execution_count": 14,
   "metadata": {},
   "outputs": [],
   "source": [
    "cat_cols = [col for col, dtype in x.schema.items() if dtype == pl.Utf8]\n",
    "num_cols = [col for col in x.columns if col not in cat_cols]"
   ]
  },
  {
   "cell_type": "code",
   "execution_count": 15,
   "metadata": {},
   "outputs": [
    {
     "data": {
      "text/plain": [
       "['cap-shape',\n",
       " 'cap-surface',\n",
       " 'cap-color',\n",
       " 'does-bruise-or-bleed',\n",
       " 'gill-attachment',\n",
       " 'gill-spacing',\n",
       " 'gill-color',\n",
       " 'stem-root',\n",
       " 'stem-surface',\n",
       " 'stem-color',\n",
       " 'veil-type',\n",
       " 'veil-color',\n",
       " 'has-ring',\n",
       " 'ring-type',\n",
       " 'spore-print-color',\n",
       " 'habitat',\n",
       " 'season']"
      ]
     },
     "execution_count": 15,
     "metadata": {},
     "output_type": "execute_result"
    }
   ],
   "source": [
    "cat_cols"
   ]
  },
  {
   "cell_type": "code",
   "execution_count": 16,
   "metadata": {},
   "outputs": [
    {
     "data": {
      "text/plain": [
       "['id', 'cap-diameter', 'stem-height', 'stem-width']"
      ]
     },
     "execution_count": 16,
     "metadata": {},
     "output_type": "execute_result"
    }
   ],
   "source": [
    "num_cols"
   ]
  },
  {
   "cell_type": "markdown",
   "metadata": {},
   "source": [
    "Create categorical transformer, handle NaN vals"
   ]
  },
  {
   "cell_type": "code",
   "execution_count": 17,
   "metadata": {},
   "outputs": [],
   "source": [
    "categorical_transformer = Pipeline(steps=[\n",
    "    ('imputer', SimpleImputer(strategy='most_frequent')),\n",
    "    ('onehot', OneHotEncoder(handle_unknown='ignore'))\n",
    "])"
   ]
  },
  {
   "cell_type": "markdown",
   "metadata": {},
   "source": [
    "Create numeric transformer, handle NaN vals"
   ]
  },
  {
   "cell_type": "code",
   "execution_count": null,
   "metadata": {},
   "outputs": [],
   "source": []
  },
  {
   "cell_type": "code",
   "execution_count": 18,
   "metadata": {},
   "outputs": [],
   "source": [
    "numerical_transformer = Pipeline(steps=[\n",
    "    ('imputer', SimpleImputer(strategy='mean')) \n",
    "])"
   ]
  },
  {
   "cell_type": "code",
   "execution_count": 19,
   "metadata": {},
   "outputs": [],
   "source": [
    "preprocessor = ColumnTransformer(\n",
    "    transformers=[\n",
    "        ('num', numerical_transformer, num_cols),\n",
    "        ('cat', categorical_transformer, cat_cols)\n",
    "    ]\n",
    ")"
   ]
  },
  {
   "cell_type": "markdown",
   "metadata": {},
   "source": [
    "Split to training and test sets"
   ]
  },
  {
   "cell_type": "code",
   "execution_count": 20,
   "metadata": {},
   "outputs": [],
   "source": [
    "x_train, x_test, y_train, y_test = train_test_split(x, y_encoded, test_size=0.2, random_state=42)"
   ]
  },
  {
   "cell_type": "code",
   "execution_count": 21,
   "metadata": {},
   "outputs": [
    {
     "data": {
      "text/plain": [
       "array([1, 1, 1, 1, 1, 1, 1, 0, 0, 1])"
      ]
     },
     "execution_count": 21,
     "metadata": {},
     "output_type": "execute_result"
    }
   ],
   "source": [
    "y_train[:10]"
   ]
  },
  {
   "cell_type": "markdown",
   "metadata": {},
   "source": [
    "Create a classifier"
   ]
  },
  {
   "cell_type": "code",
   "execution_count": 22,
   "metadata": {},
   "outputs": [],
   "source": [
    "pipeline = Pipeline(\n",
    "    steps=[\n",
    "        (\"preprocessor\", preprocessor),\n",
    "        (\"classifier\", RandomForestClassifier(n_estimators=40, max_samples=200_000, random_state=42, verbose=2)),\n",
    "    ]\n",
    ")"
   ]
  },
  {
   "cell_type": "markdown",
   "metadata": {},
   "source": [
    "Run fit "
   ]
  },
  {
   "cell_type": "code",
   "execution_count": 23,
   "metadata": {},
   "outputs": [],
   "source": [
    "x_train_pandas = x_train.to_pandas()"
   ]
  },
  {
   "cell_type": "code",
   "execution_count": null,
   "metadata": {},
   "outputs": [],
   "source": [
    "pipeline.fit(x_train_pandas, y_train)"
   ]
  },
  {
   "cell_type": "code",
   "execution_count": null,
   "metadata": {},
   "outputs": [],
   "source": [
    "y_pred = pipeline.predict(x_test)"
   ]
  },
  {
   "cell_type": "code",
   "execution_count": null,
   "metadata": {},
   "outputs": [],
   "source": [
    "y_pred.shape"
   ]
  },
  {
   "cell_type": "code",
   "execution_count": null,
   "metadata": {},
   "outputs": [],
   "source": [
    "accuracy = accuracy_score(y_test, y_pred)\n",
    "accuracy"
   ]
  },
  {
   "cell_type": "code",
   "execution_count": null,
   "metadata": {},
   "outputs": [],
   "source": [
    "X_test = pl.read_csv(f'{datapath}/test.csv')"
   ]
  },
  {
   "cell_type": "code",
   "execution_count": null,
   "metadata": {},
   "outputs": [],
   "source": [
    "preds = pipeline.predict(X_test)"
   ]
  },
  {
   "cell_type": "code",
   "execution_count": null,
   "metadata": {},
   "outputs": [],
   "source": [
    "label_encoder.inverse_transform(preds)"
   ]
  },
  {
   "cell_type": "code",
   "execution_count": null,
   "metadata": {},
   "outputs": [],
   "source": [
    "sample_df = pd.read_csv(datapath/'sample_submission.csv')"
   ]
  },
  {
   "cell_type": "code",
   "execution_count": null,
   "metadata": {},
   "outputs": [],
   "source": [
    "sample_df.head()"
   ]
  },
  {
   "cell_type": "code",
   "execution_count": null,
   "metadata": {},
   "outputs": [],
   "source": [
    "decoded_preds = label_encoder.inverse_transform(preds)"
   ]
  },
  {
   "cell_type": "code",
   "execution_count": null,
   "metadata": {},
   "outputs": [],
   "source": [
    "sample_df['class'] = decoded_preds"
   ]
  },
  {
   "cell_type": "code",
   "execution_count": null,
   "metadata": {},
   "outputs": [],
   "source": [
    "sample_df"
   ]
  },
  {
   "cell_type": "code",
   "execution_count": null,
   "metadata": {},
   "outputs": [],
   "source": [
    "sample_df.to_csv('submission.csv', index=False)\n"
   ]
  },
  {
   "cell_type": "code",
   "execution_count": null,
   "metadata": {},
   "outputs": [],
   "source": [
    "submit = True"
   ]
  },
  {
   "cell_type": "code",
   "execution_count": null,
   "metadata": {},
   "outputs": [],
   "source": [
    "if not iskaggle and submit:\n",
    "    from kaggle import api\n",
    "    api.competition_submit_cli(file_name='submission.csv', message=\"baseline model\", competition=comp_name)"
   ]
  },
  {
   "cell_type": "code",
   "execution_count": null,
   "metadata": {},
   "outputs": [],
   "source": []
  }
 ],
 "metadata": {
  "kernelspec": {
   "display_name": ".venv",
   "language": "python",
   "name": "python3"
  },
  "language_info": {
   "codemirror_mode": {
    "name": "ipython",
    "version": 3
   },
   "file_extension": ".py",
   "mimetype": "text/x-python",
   "name": "python",
   "nbconvert_exporter": "python",
   "pygments_lexer": "ipython3",
   "version": "3.12.4"
  }
 },
 "nbformat": 4,
 "nbformat_minor": 2
}
